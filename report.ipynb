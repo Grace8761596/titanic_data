{
 "cells": [
  {
   "cell_type": "code",
   "execution_count": 242,
   "metadata": {
    "collapsed": true
   },
   "outputs": [],
   "source": [
    "# 对可能影响 生还率 的 因素 做分析\n",
    "# 1、性别 2、年龄 3、票价 4、社会等级 5、登陆地点\n"
   ]
  },
  {
   "cell_type": "code",
   "execution_count": 292,
   "metadata": {},
   "outputs": [],
   "source": [
    "# 导入数据\n",
    "import pandas as pd\n",
    "\n",
    "filename = 'F:\\\\Udacity\\\\p4\\\\project\\\\titanic_data.csv'\n",
    "titanic_data_df = pd.read_csv(filename)"
   ]
  },
  {
   "cell_type": "code",
   "execution_count": 269,
   "metadata": {},
   "outputs": [
    {
     "data": {
      "text/html": [
       "<div>\n",
       "<style scoped>\n",
       "    .dataframe tbody tr th:only-of-type {\n",
       "        vertical-align: middle;\n",
       "    }\n",
       "\n",
       "    .dataframe tbody tr th {\n",
       "        vertical-align: top;\n",
       "    }\n",
       "\n",
       "    .dataframe thead th {\n",
       "        text-align: right;\n",
       "    }\n",
       "</style>\n",
       "<table border=\"1\" class=\"dataframe\">\n",
       "  <thead>\n",
       "    <tr style=\"text-align: right;\">\n",
       "      <th></th>\n",
       "      <th>PassengerId</th>\n",
       "      <th>Survived</th>\n",
       "      <th>Pclass</th>\n",
       "      <th>Name</th>\n",
       "      <th>Sex</th>\n",
       "      <th>Age</th>\n",
       "      <th>SibSp</th>\n",
       "      <th>Parch</th>\n",
       "      <th>Ticket</th>\n",
       "      <th>Fare</th>\n",
       "      <th>Cabin</th>\n",
       "      <th>Embarked</th>\n",
       "    </tr>\n",
       "  </thead>\n",
       "  <tbody>\n",
       "    <tr>\n",
       "      <th>0</th>\n",
       "      <td>1</td>\n",
       "      <td>0</td>\n",
       "      <td>3</td>\n",
       "      <td>Braund, Mr. Owen Harris</td>\n",
       "      <td>male</td>\n",
       "      <td>22.0</td>\n",
       "      <td>1</td>\n",
       "      <td>0</td>\n",
       "      <td>A/5 21171</td>\n",
       "      <td>7.2500</td>\n",
       "      <td>NaN</td>\n",
       "      <td>S</td>\n",
       "    </tr>\n",
       "    <tr>\n",
       "      <th>1</th>\n",
       "      <td>2</td>\n",
       "      <td>1</td>\n",
       "      <td>1</td>\n",
       "      <td>Cumings, Mrs. John Bradley (Florence Briggs Th...</td>\n",
       "      <td>female</td>\n",
       "      <td>38.0</td>\n",
       "      <td>1</td>\n",
       "      <td>0</td>\n",
       "      <td>PC 17599</td>\n",
       "      <td>71.2833</td>\n",
       "      <td>C85</td>\n",
       "      <td>C</td>\n",
       "    </tr>\n",
       "    <tr>\n",
       "      <th>2</th>\n",
       "      <td>3</td>\n",
       "      <td>1</td>\n",
       "      <td>3</td>\n",
       "      <td>Heikkinen, Miss. Laina</td>\n",
       "      <td>female</td>\n",
       "      <td>26.0</td>\n",
       "      <td>0</td>\n",
       "      <td>0</td>\n",
       "      <td>STON/O2. 3101282</td>\n",
       "      <td>7.9250</td>\n",
       "      <td>NaN</td>\n",
       "      <td>S</td>\n",
       "    </tr>\n",
       "    <tr>\n",
       "      <th>3</th>\n",
       "      <td>4</td>\n",
       "      <td>1</td>\n",
       "      <td>1</td>\n",
       "      <td>Futrelle, Mrs. Jacques Heath (Lily May Peel)</td>\n",
       "      <td>female</td>\n",
       "      <td>35.0</td>\n",
       "      <td>1</td>\n",
       "      <td>0</td>\n",
       "      <td>113803</td>\n",
       "      <td>53.1000</td>\n",
       "      <td>C123</td>\n",
       "      <td>S</td>\n",
       "    </tr>\n",
       "    <tr>\n",
       "      <th>4</th>\n",
       "      <td>5</td>\n",
       "      <td>0</td>\n",
       "      <td>3</td>\n",
       "      <td>Allen, Mr. William Henry</td>\n",
       "      <td>male</td>\n",
       "      <td>35.0</td>\n",
       "      <td>0</td>\n",
       "      <td>0</td>\n",
       "      <td>373450</td>\n",
       "      <td>8.0500</td>\n",
       "      <td>NaN</td>\n",
       "      <td>S</td>\n",
       "    </tr>\n",
       "  </tbody>\n",
       "</table>\n",
       "</div>"
      ],
      "text/plain": [
       "   PassengerId  Survived  Pclass  \\\n",
       "0            1         0       3   \n",
       "1            2         1       1   \n",
       "2            3         1       3   \n",
       "3            4         1       1   \n",
       "4            5         0       3   \n",
       "\n",
       "                                                Name     Sex   Age  SibSp  \\\n",
       "0                            Braund, Mr. Owen Harris    male  22.0      1   \n",
       "1  Cumings, Mrs. John Bradley (Florence Briggs Th...  female  38.0      1   \n",
       "2                             Heikkinen, Miss. Laina  female  26.0      0   \n",
       "3       Futrelle, Mrs. Jacques Heath (Lily May Peel)  female  35.0      1   \n",
       "4                           Allen, Mr. William Henry    male  35.0      0   \n",
       "\n",
       "   Parch            Ticket     Fare Cabin Embarked  \n",
       "0      0         A/5 21171   7.2500   NaN        S  \n",
       "1      0          PC 17599  71.2833   C85        C  \n",
       "2      0  STON/O2. 3101282   7.9250   NaN        S  \n",
       "3      0            113803  53.1000  C123        S  \n",
       "4      0            373450   8.0500   NaN        S  "
      ]
     },
     "execution_count": 269,
     "metadata": {},
     "output_type": "execute_result"
    }
   ],
   "source": [
    "titanic_data_df.head()"
   ]
  },
  {
   "cell_type": "code",
   "execution_count": 245,
   "metadata": {},
   "outputs": [
    {
     "name": "stdout",
     "output_type": "stream",
     "text": [
      "<class 'pandas.core.frame.DataFrame'>\n",
      "RangeIndex: 891 entries, 0 to 890\n",
      "Data columns (total 12 columns):\n",
      "PassengerId    891 non-null int64\n",
      "Survived       891 non-null int64\n",
      "Pclass         891 non-null int64\n",
      "Name           891 non-null object\n",
      "Sex            891 non-null object\n",
      "Age            714 non-null float64\n",
      "SibSp          891 non-null int64\n",
      "Parch          891 non-null int64\n",
      "Ticket         891 non-null object\n",
      "Fare           891 non-null float64\n",
      "Cabin          204 non-null object\n",
      "Embarked       889 non-null object\n",
      "dtypes: float64(2), int64(5), object(5)\n",
      "memory usage: 83.6+ KB\n"
     ]
    }
   ],
   "source": [
    "titanic_data_df.info()"
   ]
  },
  {
   "cell_type": "code",
   "execution_count": 246,
   "metadata": {},
   "outputs": [
    {
     "data": {
      "text/plain": [
       "3    491\n",
       "1    216\n",
       "2    184\n",
       "Name: Pclass, dtype: int64"
      ]
     },
     "execution_count": 246,
     "metadata": {},
     "output_type": "execute_result"
    }
   ],
   "source": [
    "titanic_data_df.Pclass.value_counts()"
   ]
  },
  {
   "cell_type": "code",
   "execution_count": 247,
   "metadata": {},
   "outputs": [
    {
     "data": {
      "text/html": [
       "<div>\n",
       "<style scoped>\n",
       "    .dataframe tbody tr th:only-of-type {\n",
       "        vertical-align: middle;\n",
       "    }\n",
       "\n",
       "    .dataframe tbody tr th {\n",
       "        vertical-align: top;\n",
       "    }\n",
       "\n",
       "    .dataframe thead th {\n",
       "        text-align: right;\n",
       "    }\n",
       "</style>\n",
       "<table border=\"1\" class=\"dataframe\">\n",
       "  <thead>\n",
       "    <tr style=\"text-align: right;\">\n",
       "      <th></th>\n",
       "      <th>PassengerId</th>\n",
       "      <th>Survived</th>\n",
       "      <th>Pclass</th>\n",
       "      <th>Age</th>\n",
       "      <th>SibSp</th>\n",
       "      <th>Parch</th>\n",
       "      <th>Fare</th>\n",
       "    </tr>\n",
       "  </thead>\n",
       "  <tbody>\n",
       "    <tr>\n",
       "      <th>count</th>\n",
       "      <td>891.000000</td>\n",
       "      <td>891.000000</td>\n",
       "      <td>891.000000</td>\n",
       "      <td>714.000000</td>\n",
       "      <td>891.000000</td>\n",
       "      <td>891.000000</td>\n",
       "      <td>891.000000</td>\n",
       "    </tr>\n",
       "    <tr>\n",
       "      <th>mean</th>\n",
       "      <td>446.000000</td>\n",
       "      <td>0.383838</td>\n",
       "      <td>2.308642</td>\n",
       "      <td>29.699118</td>\n",
       "      <td>0.523008</td>\n",
       "      <td>0.381594</td>\n",
       "      <td>32.204208</td>\n",
       "    </tr>\n",
       "    <tr>\n",
       "      <th>std</th>\n",
       "      <td>257.353842</td>\n",
       "      <td>0.486592</td>\n",
       "      <td>0.836071</td>\n",
       "      <td>14.526497</td>\n",
       "      <td>1.102743</td>\n",
       "      <td>0.806057</td>\n",
       "      <td>49.693429</td>\n",
       "    </tr>\n",
       "    <tr>\n",
       "      <th>min</th>\n",
       "      <td>1.000000</td>\n",
       "      <td>0.000000</td>\n",
       "      <td>1.000000</td>\n",
       "      <td>0.420000</td>\n",
       "      <td>0.000000</td>\n",
       "      <td>0.000000</td>\n",
       "      <td>0.000000</td>\n",
       "    </tr>\n",
       "    <tr>\n",
       "      <th>25%</th>\n",
       "      <td>223.500000</td>\n",
       "      <td>0.000000</td>\n",
       "      <td>2.000000</td>\n",
       "      <td>20.125000</td>\n",
       "      <td>0.000000</td>\n",
       "      <td>0.000000</td>\n",
       "      <td>7.910400</td>\n",
       "    </tr>\n",
       "    <tr>\n",
       "      <th>50%</th>\n",
       "      <td>446.000000</td>\n",
       "      <td>0.000000</td>\n",
       "      <td>3.000000</td>\n",
       "      <td>28.000000</td>\n",
       "      <td>0.000000</td>\n",
       "      <td>0.000000</td>\n",
       "      <td>14.454200</td>\n",
       "    </tr>\n",
       "    <tr>\n",
       "      <th>75%</th>\n",
       "      <td>668.500000</td>\n",
       "      <td>1.000000</td>\n",
       "      <td>3.000000</td>\n",
       "      <td>38.000000</td>\n",
       "      <td>1.000000</td>\n",
       "      <td>0.000000</td>\n",
       "      <td>31.000000</td>\n",
       "    </tr>\n",
       "    <tr>\n",
       "      <th>max</th>\n",
       "      <td>891.000000</td>\n",
       "      <td>1.000000</td>\n",
       "      <td>3.000000</td>\n",
       "      <td>80.000000</td>\n",
       "      <td>8.000000</td>\n",
       "      <td>6.000000</td>\n",
       "      <td>512.329200</td>\n",
       "    </tr>\n",
       "  </tbody>\n",
       "</table>\n",
       "</div>"
      ],
      "text/plain": [
       "       PassengerId    Survived      Pclass         Age       SibSp  \\\n",
       "count   891.000000  891.000000  891.000000  714.000000  891.000000   \n",
       "mean    446.000000    0.383838    2.308642   29.699118    0.523008   \n",
       "std     257.353842    0.486592    0.836071   14.526497    1.102743   \n",
       "min       1.000000    0.000000    1.000000    0.420000    0.000000   \n",
       "25%     223.500000    0.000000    2.000000   20.125000    0.000000   \n",
       "50%     446.000000    0.000000    3.000000   28.000000    0.000000   \n",
       "75%     668.500000    1.000000    3.000000   38.000000    1.000000   \n",
       "max     891.000000    1.000000    3.000000   80.000000    8.000000   \n",
       "\n",
       "            Parch        Fare  \n",
       "count  891.000000  891.000000  \n",
       "mean     0.381594   32.204208  \n",
       "std      0.806057   49.693429  \n",
       "min      0.000000    0.000000  \n",
       "25%      0.000000    7.910400  \n",
       "50%      0.000000   14.454200  \n",
       "75%      0.000000   31.000000  \n",
       "max      6.000000  512.329200  "
      ]
     },
     "execution_count": 247,
     "metadata": {},
     "output_type": "execute_result"
    }
   ],
   "source": [
    "titanic_data_df.describe()"
   ]
  },
  {
   "cell_type": "code",
   "execution_count": 248,
   "metadata": {},
   "outputs": [
    {
     "data": {
      "image/png": "[encoded data removed]",
      "text/plain": [
       "<matplotlib.figure.Figure at 0x10b73748>"
      ]
     },
     "metadata": {},
     "output_type": "display_data"
    }
   ],
   "source": [
    "import matplotlib.pyplot as plt\n",
    "fig = plt.figure()\n",
    "fig.set(alpha=0.2)  # 设定图表颜色alpha参数\n",
    "plt.rc('font', family='SimHei', size=8) # Jupyter Notebook 作图显示中文\n",
    "\n",
    "\n",
    "plt.subplot2grid((2,3),(0,0))             # 在一张大图里分列几个小图\n",
    "titanic_data_df.Survived.value_counts().plot(kind='bar')# 柱状图 \n",
    "plt.title(u\"获救情况 (1为获救)\") # 标题\n",
    "plt.ylabel(u\"人数\") \n",
    "\n",
    "\n",
    "plt.subplot2grid((2,3),(0,1))\n",
    "titanic_data_df.Pclass.value_counts().plot(kind=\"bar\")\n",
    "plt.ylabel(u\"人数\")\n",
    "plt.title(u\"乘客等级分布\")\n",
    "\n",
    "plt.subplot2grid((2,3),(0,2))\n",
    "plt.scatter(titanic_data_df.Survived, titanic_data_df.Age) # 散点图\n",
    "plt.ylabel(u\"年龄\")                         # 设定纵坐标名称\n",
    "plt.grid(b=True, which='major', axis='y') \n",
    "plt.title(u\"按年龄看获救分布 (1为获救)\")\n",
    "\n",
    "\n",
    "plt.subplot2grid((2,3),(1,0), colspan=2)\n",
    "titanic_data_df.Age[titanic_data_df.Pclass == 1].plot(kind='kde')   \n",
    "titanic_data_df.Age[titanic_data_df.Pclass == 2].plot(kind='kde')\n",
    "titanic_data_df.Age[titanic_data_df.Pclass == 3].plot(kind='kde')\n",
    "plt.xlabel(u\"年龄\")# plots an axis lable\n",
    "plt.ylabel(u\"密度\") \n",
    "plt.title(u\"各等级的乘客年龄分布\")\n",
    "plt.legend((u'头等舱', u'2等舱',u'3等舱'),loc='best') # sets our legend for our graph.\n",
    "\n",
    "\n",
    "plt.subplot2grid((2,3),(1,2))\n",
    "titanic_data_df.Embarked.value_counts().plot(kind='bar')\n",
    "plt.title(u\"各登船口岸上船人数\")\n",
    "plt.ylabel(u\"人数\")  \n",
    "plt.show()"
   ]
  },
  {
   "cell_type": "code",
   "execution_count": 274,
   "metadata": {
    "collapsed": true
   },
   "outputs": [],
   "source": [
    "# inplace = True 在原数据集上原地修改，原数据集变为清除缺失值之后的数据集\n",
    "titanic_data_df.dropna(subset = ['Age', 'Embarked'], inplace = True)"
   ]
  },
  {
   "cell_type": "code",
   "execution_count": 250,
   "metadata": {},
   "outputs": [
    {
     "name": "stdout",
     "output_type": "stream",
     "text": [
      "<class 'pandas.core.frame.DataFrame'>\n",
      "Int64Index: 712 entries, 0 to 890\n",
      "Data columns (total 12 columns):\n",
      "PassengerId    712 non-null int64\n",
      "Survived       712 non-null int64\n",
      "Pclass         712 non-null int64\n",
      "Name           712 non-null object\n",
      "Sex            712 non-null object\n",
      "Age            712 non-null float64\n",
      "SibSp          712 non-null int64\n",
      "Parch          712 non-null int64\n",
      "Ticket         712 non-null object\n",
      "Fare           712 non-null float64\n",
      "Cabin          183 non-null object\n",
      "Embarked       712 non-null object\n",
      "dtypes: float64(2), int64(5), object(5)\n",
      "memory usage: 72.3+ KB\n"
     ]
    }
   ],
   "source": [
    "titanic_data_df.info()"
   ]
  },
  {
   "cell_type": "code",
   "execution_count": 251,
   "metadata": {
    "collapsed": true
   },
   "outputs": [],
   "source": [
    "import matplotlib.pyplot as plt\n",
    "#判断单一元素对幸存率的影响\n",
    "def survive_with_one_factor(survived, factor):\n",
    "    \n",
    "    print '幸存人数: ', titanic_data_df.groupby(factor).sum()[survived]\n",
    "    print ''\n",
    "    print '总人数: ', titanic_data_df.groupby(factor).count()[survived]\n",
    "    print ''\n",
    "    print '幸存率: ', titanic_data_df.groupby(factor).mean()[survived]\n",
    "    \n",
    "    survived_rate = titanic_data_df.groupby(factor).mean()[survived]\n",
    "    # 直方图**的生还率\n",
    "    survived_rate.plot(kind='bar')\n",
    "    plt.title(factor + 'Survival rate')\n",
    "    plt.xlabel(factor)\n",
    "    plt.ylabel(survived)\n",
    "    plt.show()"
   ]
  },
  {
   "cell_type": "code",
   "execution_count": 252,
   "metadata": {},
   "outputs": [
    {
     "name": "stdout",
     "output_type": "stream",
     "text": [
      "幸存人数:  Sex\n",
      "female    195\n",
      "male       93\n",
      "Name: Survived, dtype: int64\n",
      "\n",
      "总人数:  Sex\n",
      "female    259\n",
      "male      453\n",
      "Name: Survived, dtype: int64\n",
      "\n",
      "幸存率:  Sex\n",
      "female    0.752896\n",
      "male      0.205298\n",
      "Name: Survived, dtype: float64\n"
     ]
    },
    {
     "data": {
      "image/png": "[encoded data removed]",
      "text/plain": [
       "<matplotlib.figure.Figure at 0x120a60b8>"
      ]
     },
     "metadata": {},
     "output_type": "display_data"
    },
    {
     "name": "stdout",
     "output_type": "stream",
     "text": [
      "女性幸存率高\n"
     ]
    }
   ],
   "source": [
    "# 性别对幸存率的影响\n",
    "survive_with_one_factor('Survived', 'Sex')\n",
    "print '女性幸存率高'"
   ]
  },
  {
   "cell_type": "code",
   "execution_count": 253,
   "metadata": {},
   "outputs": [
    {
     "name": "stdout",
     "output_type": "stream",
     "text": [
      "幸存人数:  Pclass\n",
      "1    120\n",
      "2     83\n",
      "3     85\n",
      "Name: Survived, dtype: int64\n",
      "\n",
      "总人数:  Pclass\n",
      "1    184\n",
      "2    173\n",
      "3    355\n",
      "Name: Survived, dtype: int64\n",
      "\n",
      "幸存率:  Pclass\n",
      "1    0.652174\n",
      "2    0.479769\n",
      "3    0.239437\n",
      "Name: Survived, dtype: float64\n"
     ]
    },
    {
     "data": {
      "image/png": "[encoded data removed]",
      "text/plain": [
       "<matplotlib.figure.Figure at 0xf70c6a0>"
      ]
     },
     "metadata": {},
     "output_type": "display_data"
    },
    {
     "name": "stdout",
     "output_type": "stream",
     "text": [
      "Pclass 为1 幸存率最高\n"
     ]
    }
   ],
   "source": [
    "# 社会等级 Pclass对幸存率的影响\n",
    "survive_with_one_factor('Survived', 'Pclass')\n",
    "print 'Pclass 为1 幸存率最高'"
   ]
  },
  {
   "cell_type": "code",
   "execution_count": 254,
   "metadata": {},
   "outputs": [
    {
     "name": "stdout",
     "output_type": "stream",
     "text": [
      "幸存人数:  SibSp\n",
      "0    173\n",
      "1     97\n",
      "2     11\n",
      "3      4\n",
      "4      3\n",
      "5      0\n",
      "Name: Survived, dtype: int64\n",
      "\n",
      "总人数:  SibSp\n",
      "0    469\n",
      "1    183\n",
      "2     25\n",
      "3     12\n",
      "4     18\n",
      "5      5\n",
      "Name: Survived, dtype: int64\n",
      "\n",
      "幸存率:  SibSp\n",
      "0    0.368870\n",
      "1    0.530055\n",
      "2    0.440000\n",
      "3    0.333333\n",
      "4    0.166667\n",
      "5    0.000000\n",
      "Name: Survived, dtype: float64\n"
     ]
    },
    {
     "data": {
      "image/png": "[encoded data removed]",
      "text/plain": [
       "<matplotlib.figure.Figure at 0xfd99978>"
      ]
     },
     "metadata": {},
     "output_type": "display_data"
    },
    {
     "name": "stdout",
     "output_type": "stream",
     "text": [
      "有1个SibSp幸存率最高\n"
     ]
    }
   ],
   "source": [
    "# 判断亲戚和配偶在船数量对存活率的影响\n",
    "survive_with_one_factor('Survived', 'SibSp')\n",
    "print '有1个SibSp幸存率最高'"
   ]
  },
  {
   "cell_type": "code",
   "execution_count": 255,
   "metadata": {},
   "outputs": [
    {
     "name": "stdout",
     "output_type": "stream",
     "text": [
      "幸存人数:  Parch\n",
      "0    184\n",
      "1     61\n",
      "2     39\n",
      "3      3\n",
      "4      0\n",
      "5      1\n",
      "6      0\n",
      "Name: Survived, dtype: int64\n",
      "\n",
      "总人数:  Parch\n",
      "0    519\n",
      "1    110\n",
      "2     68\n",
      "3      5\n",
      "4      4\n",
      "5      5\n",
      "6      1\n",
      "Name: Survived, dtype: int64\n",
      "\n",
      "幸存率:  Parch\n",
      "0    0.354528\n",
      "1    0.554545\n",
      "2    0.573529\n",
      "3    0.600000\n",
      "4    0.000000\n",
      "5    0.200000\n",
      "6    0.000000\n",
      "Name: Survived, dtype: float64\n"
     ]
    },
    {
     "data": {
      "image/png": "[encoded data removed]",
      "text/plain": [
       "<matplotlib.figure.Figure at 0x120a0fd0>"
      ]
     },
     "metadata": {},
     "output_type": "display_data"
    },
    {
     "name": "stdout",
     "output_type": "stream",
     "text": [
      "有1-3位父母孩子 幸存率最高\n"
     ]
    }
   ],
   "source": [
    "# 判断父母孩子的在船数量对存活率的影响\n",
    "survive_with_one_factor('Survived', 'Parch')\n",
    "print '有1-3位父母孩子 幸存率最高'"
   ]
  },
  {
   "cell_type": "code",
   "execution_count": 256,
   "metadata": {},
   "outputs": [
    {
     "name": "stdout",
     "output_type": "stream",
     "text": [
      "幸存人数:  Embarked\n",
      "C     79\n",
      "Q      8\n",
      "S    201\n",
      "Name: Survived, dtype: int64\n",
      "\n",
      "总人数:  Embarked\n",
      "C    130\n",
      "Q     28\n",
      "S    554\n",
      "Name: Survived, dtype: int64\n",
      "\n",
      "幸存率:  Embarked\n",
      "C    0.607692\n",
      "Q    0.285714\n",
      "S    0.362816\n",
      "Name: Survived, dtype: float64\n"
     ]
    },
    {
     "data": {
      "image/png": "[encoded data removed]",
      "text/plain": [
       "<matplotlib.figure.Figure at 0x11f085f8>"
      ]
     },
     "metadata": {},
     "output_type": "display_data"
    },
    {
     "name": "stdout",
     "output_type": "stream",
     "text": [
      "从C港口登陆幸存率最高\n"
     ]
    }
   ],
   "source": [
    "survive_with_one_factor('Survived', 'Embarked')\n",
    "print '从C港口登陆幸存率最高'"
   ]
  },
  {
   "cell_type": "code",
   "execution_count": 265,
   "metadata": {},
   "outputs": [],
   "source": [
    "# 判断区间元素对存活率的影响\n",
    "import numpy as np\n",
    "def survive_with_section_factor(survived, factor, bins):\n",
    "    # 对年龄进行分组，每10岁为一组\n",
    "    #bins=np.arange(0,90,10)\n",
    "    # 对区间进行切割\n",
    "    titanic_data_df[factor] = pd.cut(titanic_data_df[factor], bins)\n",
    "    print '幸存人数: ', titanic_data_df.groupby(factor).sum()[survived]\n",
    "    print ''\n",
    "    print '总人数: ', titanic_data_df.groupby(factor).count()[survived]\n",
    "    print ''\n",
    "    print '幸存率: ', titanic_data_df.groupby(factor).mean()[survived]\n",
    "    \n",
    "    survived_rate = titanic_data_df.groupby(factor).mean()[survived]\n",
    "    # 直方图**的生还率\n",
    "    survived_rate.plot(kind='bar')\n",
    "    plt.title(factor + 'Survival rate')\n",
    "    plt.xlabel(factor)\n",
    "    plt.ylabel(survived)\n",
    "    plt.show() "
   ]
  },
  {
   "cell_type": "code",
   "execution_count": 271,
   "metadata": {},
   "outputs": [
    {
     "name": "stdout",
     "output_type": "stream",
     "text": [
      "幸存人数:  Age\n",
      "(0, 10]     38\n",
      "(10, 20]    44\n",
      "(20, 30]    84\n",
      "(30, 40]    68\n",
      "(40, 50]    33\n",
      "(50, 60]    17\n",
      "(60, 70]     3\n",
      "(70, 80]     1\n",
      "Name: Survived, dtype: int64\n",
      "\n",
      "总人数:  Age\n",
      "(0, 10]      64\n",
      "(10, 20]    115\n",
      "(20, 30]    230\n",
      "(30, 40]    154\n",
      "(40, 50]     86\n",
      "(50, 60]     42\n",
      "(60, 70]     16\n",
      "(70, 80]      5\n",
      "Name: Survived, dtype: int64\n",
      "\n",
      "幸存率:  Age\n",
      "(0, 10]     0.593750\n",
      "(10, 20]    0.382609\n",
      "(20, 30]    0.365217\n",
      "(30, 40]    0.441558\n",
      "(40, 50]    0.383721\n",
      "(50, 60]    0.404762\n",
      "(60, 70]    0.187500\n",
      "(70, 80]    0.200000\n",
      "Name: Survived, dtype: float64\n"
     ]
    },
    {
     "data": {
      "image/png": "[encoded data removed]",
      "text/plain": [
       "<matplotlib.figure.Figure at 0x124f0470>"
      ]
     },
     "metadata": {},
     "output_type": "display_data"
    },
    {
     "name": "stdout",
     "output_type": "stream",
     "text": [
      "10岁以下儿童幸存率最高\n"
     ]
    }
   ],
   "source": [
    "# 判断年龄对幸存率的影响\n",
    "survive_with_section_factor('Survived', 'Age', np.arange(0,90,10))\n",
    "print '10岁以下儿童幸存率最高'"
   ]
  },
  {
   "cell_type": "code",
   "execution_count": 275,
   "metadata": {},
   "outputs": [
    {
     "name": "stdout",
     "output_type": "stream",
     "text": [
      "幸存人数:  Fare\n",
      "(0, 30]       167.0\n",
      "(30, 60]       46.0\n",
      "(60, 90]       34.0\n",
      "(90, 120]      14.0\n",
      "(120, 150]      6.0\n",
      "(150, 180]      6.0\n",
      "(180, 210]      NaN\n",
      "(210, 240]      6.0\n",
      "(240, 270]      5.0\n",
      "Name: Survived, dtype: float64\n",
      "\n",
      "总人数:  Fare\n",
      "(0, 30]       504\n",
      "(30, 60]       96\n",
      "(60, 90]       53\n",
      "(90, 120]      18\n",
      "(120, 150]      7\n",
      "(150, 180]      9\n",
      "(180, 210]      0\n",
      "(210, 240]      7\n",
      "(240, 270]      8\n",
      "Name: Survived, dtype: int64\n",
      "\n",
      "幸存率:  Fare\n",
      "(0, 30]       0.331349\n",
      "(30, 60]      0.479167\n",
      "(60, 90]      0.641509\n",
      "(90, 120]     0.777778\n",
      "(120, 150]    0.857143\n",
      "(150, 180]    0.666667\n",
      "(180, 210]         NaN\n",
      "(210, 240]    0.857143\n",
      "(240, 270]    0.625000\n",
      "Name: Survived, dtype: float64\n"
     ]
    },
    {
     "data": {
      "image/png": "[encoded data removed]",
      "text/plain": [
       "<matplotlib.figure.Figure at 0x12ec0908>"
      ]
     },
     "metadata": {},
     "output_type": "display_data"
    }
   ],
   "source": [
    "# 判断消费能力Fare对存活率的影响\n",
    "survive_with_section_factor('Survived', 'Fare', np.arange(0,300,30))\n"
   ]
  },
  {
   "cell_type": "code",
   "execution_count": 276,
   "metadata": {},
   "outputs": [
    {
     "name": "stdout",
     "output_type": "stream",
     "text": [
      "票价高，幸存率高\n"
     ]
    }
   ],
   "source": [
    "print '票价高，幸存率高'"
   ]
  },
  {
   "cell_type": "code",
   "execution_count": 284,
   "metadata": {
    "collapsed": true
   },
   "outputs": [],
   "source": [
    "# 判断双元素对存活率的影响\n",
    "def double_factor(factor1, factor2, survived):\n",
    "\n",
    "    print '幸存人数: ', titanic_data_df.groupby([factor1, factor2]).sum()[survived]\n",
    "    print ''\n",
    "    print '总人数: ', titanic_data_df.groupby([factor1, factor2]).count()[survived]\n",
    "    print ''\n",
    "    print '幸存率: ', titanic_data_df.groupby([factor1, factor2]).mean()[survived]\n",
    "    \n",
    "    survived_rate = titanic_data_df.groupby([factor1, factor2]).mean()[survived]\n",
    "    # 直方图**的生还率\n",
    "    survived_rate.unstack().plot(kind='bar') # 把柱状图 拼接到一起\n",
    "    plt.title(factor1 + \" + \" + factor2 + \" \" + 'Survival rate')\n",
    "    plt.xlabel(factor1 + \" + \" + factor2)\n",
    "    plt.ylabel(survived)\n",
    "    plt.show()"
   ]
  },
  {
   "cell_type": "code",
   "execution_count": 285,
   "metadata": {},
   "outputs": [
    {
     "name": "stdout",
     "output_type": "stream",
     "text": [
      "幸存人数:  Pclass  Sex   \n",
      "1       female    80\n",
      "        male      40\n",
      "2       female    68\n",
      "        male      15\n",
      "3       female    47\n",
      "        male      38\n",
      "Name: Survived, dtype: int64\n",
      "\n",
      "总人数:  Pclass  Sex   \n",
      "1       female     83\n",
      "        male      101\n",
      "2       female     74\n",
      "        male       99\n",
      "3       female    102\n",
      "        male      253\n",
      "Name: Survived, dtype: int64\n",
      "\n",
      "幸存率:  Pclass  Sex   \n",
      "1       female    0.963855\n",
      "        male      0.396040\n",
      "2       female    0.918919\n",
      "        male      0.151515\n",
      "3       female    0.460784\n",
      "        male      0.150198\n",
      "Name: Survived, dtype: float64\n"
     ]
    },
    {
     "data": {
      "image/png": "[encoded data removed]",
      "text/plain": [
       "<matplotlib.figure.Figure at 0x143d5c18>"
      ]
     },
     "metadata": {},
     "output_type": "display_data"
    }
   ],
   "source": [
    "# 判断舱位和性别对幸存率的综合影响\n",
    "double_factor('Pclass', 'Sex', 'Survived')"
   ]
  },
  {
   "cell_type": "code",
   "execution_count": 281,
   "metadata": {},
   "outputs": [
    {
     "name": "stdout",
     "output_type": "stream",
     "text": [
      "对于男女性别，舱位都是等级越高,存活率越高\n"
     ]
    }
   ],
   "source": [
    "print '对于男女性别，舱位都是等级越高,存活率越高'"
   ]
  },
  {
   "cell_type": "code",
   "execution_count": 303,
   "metadata": {},
   "outputs": [
    {
     "data": {
      "text/plain": [
       "0.25730652238496232"
      ]
     },
     "execution_count": 303,
     "metadata": {},
     "output_type": "execute_result"
    }
   ],
   "source": [
    "#　皮尔逊积矩相关系数　计算相关性　dataframe.列1.corr(dataframe.列2)\n",
    "#　票价和幸存率正相关\n",
    "titanic_data_df.Fare.corr(titanic_data_df.Survived)"
   ]
  }
 ],
 "metadata": {
  "kernelspec": {
   "display_name": "Python 2",
   "language": "python",
   "name": "python2"
  },
  "language_info": {
   "codemirror_mode": {
    "name": "ipython",
    "version": 2
   },
   "file_extension": ".py",
   "mimetype": "text/x-python",
   "name": "python",
   "nbconvert_exporter": "python",
   "pygments_lexer": "ipython2",
   "version": "2.7.14"
  }
 },
 "nbformat": 4,
 "nbformat_minor": 2
}
